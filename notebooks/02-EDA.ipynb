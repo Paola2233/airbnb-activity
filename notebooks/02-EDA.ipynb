{
 "cells": [
  {
   "cell_type": "markdown",
   "metadata": {},
   "source": [
    "# Seatle and Boston Airbnb Open Data\n",
    "## Exploratory Data Analysis\n",
    "\n",
    "**Author:** Paola Rocha  \n",
    "**Date:** March 3rd, 2024\n",
    "\n",
    "**Description**  \n",
    "The objective of this notebook is to answers business questions for [Boston](https://www.kaggle.com/datasets/airbnb/boston?select=calendar.csv) and [Seatle](https://www.kaggle.com/datasets/airbnb/seattle?resource=download) Airbnb Open Data. \n",
    "\n",
    "Este notebook se enfocarà en responder las siguientes preguntas para cada una de las ciudades:\n",
    "1. Dònde se encuentran los superhosts?\n",
    "    - Utilizar el dataset de listing con longitud y latitud\n",
    "    - Utilizar el precio con escala de colores para mostrar superhost mas costosos.\n",
    "2. Què cualidades de la habitaciòn afectan màs para ser un superhost?\n",
    "3. Què tipo de reviews tienen los superhosts?\n",
    "    - Usar NPL para describir los reviews.\n",
    "4. Predicciòn de precios promedios para la siguiente temporada de super hosts.\n",
    "    - Existe una diferencia de tendencias para los que no son superhosts?\n",
    "\n",
    "**Notebook contents**\n",
    "1. Libraries\n",
    "2. Dataset description\n",
    "3. Data acquistion\n",
    "4. Cleaning data\n",
    "5. Saving data"
   ]
  },
  {
   "cell_type": "code",
   "execution_count": null,
   "metadata": {},
   "outputs": [],
   "source": [
    "# Processing data\n",
    "from pandas import pandas as pd\n",
    "\n",
    "# NLP tools\n",
    "from textblob import TextBlob\n",
    "\n",
    "# Visualization\n",
    "import plotly.express as px\n",
    "import plotly.graph_objects as go\n",
    "import seaborn as sns\n",
    "import matplotlib.pyplot as plt\n",
    "\n",
    "# sns.set_context(\"talk\")"
   ]
  },
  {
   "cell_type": "code",
   "execution_count": null,
   "metadata": {},
   "outputs": [],
   "source": [
    "# Reading data\n",
    "seatle_listings = pd.read_csv('../data/processed/Seatle/listings.csv', dtype={'host_is_superhost': bool})\n",
    "boston_listings = pd.read_csv('../data/processed/Boston/listings.csv', dtype={'host_is_superhost': bool})\n",
    "boston_reviews = pd.read_csv('../data/processed/Boston/reviews.csv')"
   ]
  },
  {
   "cell_type": "markdown",
   "metadata": {},
   "source": [
    "## 1. Dònde se encuentran principalmente los superhosts?"
   ]
  },
  {
   "cell_type": "markdown",
   "metadata": {},
   "source": [
    "### Hosts ubication"
   ]
  },
  {
   "cell_type": "code",
   "execution_count": null,
   "metadata": {},
   "outputs": [],
   "source": [
    "def pivot_listings(df_listings):\n",
    "    \"\"\"This function group data by neighbourhood and host type ('host' or 'superhost').\n",
    "    Also, get the count of airbnb hosts and the average price cost by accommodation.\n",
    "\n",
    "    Args:\n",
    "        df_listings (pd.DataFrame): Listing dataframe\n",
    "\n",
    "    Returns:\n",
    "        pd.DataFrame: Dataframe with count of hosts and average price by host type.\n",
    "    \"\"\"\n",
    "    # Grouping by host and neighbourhood and getting the average price\n",
    "    df_neighbourhood = df_listings.groupby(by=['host_is_superhost', 'neighbourhood']).agg({'price':'mean', 'id':'count'}).reset_index()\n",
    "    \n",
    "    # Separation by host type\n",
    "    neighbour_host = df_neighbourhood[df_neighbourhood['host_is_superhost'] == False].drop('host_is_superhost', axis=1)\n",
    "    neighbour_superhost = df_neighbourhood[df_neighbourhood['host_is_superhost'] == True].drop('host_is_superhost', axis=1)\n",
    "    \n",
    "    # Merging dataframes\n",
    "    df_neighbour_pivot = neighbour_host.merge(neighbour_superhost, on='neighbourhood', how='outer', suffixes=('_host', '_superhost')).fillna(0).sort_values('price_host')\n",
    "    return df_neighbour_pivot"
   ]
  },
  {
   "cell_type": "code",
   "execution_count": null,
   "metadata": {},
   "outputs": [],
   "source": [
    "# Grouping by host and neighbourhood and getting the average bas price\n",
    "seattle_neighbour_pivot = pivot_listings(seatle_listings)\n",
    "boston_neighbour_pivot = pivot_listings(boston_listings)"
   ]
  },
  {
   "cell_type": "code",
   "execution_count": null,
   "metadata": {},
   "outputs": [],
   "source": [
    "def vbar_host_comparison(df_pivot, column_name:str, title:str):\n",
    "\n",
    "    df_pivot = df_pivot.sort_values(f'{column_name}_host')\n",
    "\n",
    "    y = list(range(len(df_pivot)))\n",
    "\n",
    "    fig = go.Figure(data=[\n",
    "        go.Bar(y=y, x=df_pivot[f'{column_name}_superhost'], orientation='h', name=\"Superhost\", base=0),\n",
    "        go.Bar(y=y, x=-df_pivot[f'{column_name}_host'], orientation='h', name=\"Host\", base=0),\n",
    "    ])\n",
    "\n",
    "    fig.update_layout(\n",
    "        barmode='stack',\n",
    "        title={'text': f\"<b>{title}</b><br>Host vs Superhost\",\n",
    "            'x':0.5,\n",
    "            'xanchor': 'center'\n",
    "        },\n",
    "        width=1000,\n",
    "        height=1000,\n",
    "        margin=dict(\n",
    "            l=10,\n",
    "            r=10,\n",
    "            b=10,\n",
    "            t=50,\n",
    "            pad=0\n",
    "        ),)\n",
    "\n",
    "    fig.update_yaxes(\n",
    "            ticktext=df_pivot['neighbourhood'],  # Updating y axis names with neighbourhood names\n",
    "            tickvals=y\n",
    "        )\n",
    "    fig.show()"
   ]
  },
  {
   "cell_type": "code",
   "execution_count": null,
   "metadata": {},
   "outputs": [],
   "source": [
    "vbar_host_comparison(seattle_neighbour_pivot, 'id', 'How many Airbnbs are by host in Seattle by neighbourhood?')"
   ]
  },
  {
   "cell_type": "code",
   "execution_count": null,
   "metadata": {},
   "outputs": [],
   "source": [
    "vbar_host_comparison(boston_neighbour_pivot, 'id', 'How many Airbnbs are by host in Boston by neighbourhood?')"
   ]
  },
  {
   "cell_type": "code",
   "execution_count": null,
   "metadata": {},
   "outputs": [],
   "source": [
    "def geographical_price(df_listings, host_is_superhost:bool):\n",
    "    \"\"\"Filter listings dataframe by host type and calculate the average of price by coordenates.\n",
    "\n",
    "    Args:\n",
    "        df_listings (pd.DataFrame): Listings dataframe\n",
    "        host_is_superhost (bool): Type of host. If True, host is superhost, otherwise is only a host\n",
    "\n",
    "    Returns:\n",
    "        pd.DataFrame: Dataframe with the coordenates and average price.\n",
    "    \"\"\"\n",
    "    df_listings_filtered = df_listings[df_listings['host_is_superhost'] == host_is_superhost]\n",
    "    df_coords = df_listings_filtered.groupby(by=['latitude', 'longitude']).agg({'price': 'mean'}).reset_index()\n",
    "    return df_coords"
   ]
  },
  {
   "cell_type": "code",
   "execution_count": null,
   "metadata": {},
   "outputs": [],
   "source": [
    "def mapbox_price(df_coords, color_continuous_scale:str='matter'):\n",
    "    fig = px.density_mapbox(df_coords, lat='latitude', lon='longitude', z='price', radius=15, zoom=0, color_continuous_scale='matter')\n",
    "    fig.update_layout(mapbox_style=\"open-street-map\")\n",
    "    fig.update_layout(margin={\"r\":0,\"t\":0,\"l\":0,\"b\":0})\n",
    "    fig.show()"
   ]
  },
  {
   "cell_type": "code",
   "execution_count": null,
   "metadata": {},
   "outputs": [],
   "source": [
    "seattle_superhost_coords = geographical_price(seatle_listings, host_is_superhost=True)\n",
    "seattle_host_coords = geographical_price(seatle_listings, host_is_superhost=False)"
   ]
  },
  {
   "cell_type": "code",
   "execution_count": null,
   "metadata": {},
   "outputs": [],
   "source": [
    "mapbox_price(seattle_superhost_coords)"
   ]
  },
  {
   "cell_type": "code",
   "execution_count": null,
   "metadata": {},
   "outputs": [],
   "source": [
    "mapbox_price(seattle_host_coords)"
   ]
  },
  {
   "cell_type": "code",
   "execution_count": null,
   "metadata": {},
   "outputs": [],
   "source": [
    "boston_superhost_coords = geographical_price(boston_listings, host_is_superhost=True)\n",
    "boston_host_coords = geographical_price(boston_listings, host_is_superhost=False)"
   ]
  },
  {
   "cell_type": "code",
   "execution_count": null,
   "metadata": {},
   "outputs": [],
   "source": [
    "mapbox_price(boston_superhost_coords)"
   ]
  },
  {
   "cell_type": "code",
   "execution_count": null,
   "metadata": {},
   "outputs": [],
   "source": [
    "mapbox_price(boston_host_coords)"
   ]
  },
  {
   "cell_type": "markdown",
   "metadata": {},
   "source": [
    "## 2. Què cualidades de la habitaciòn afectan màs para ser un superhost?\n",
    "Renombrar pregunta a: ¿Cuál es la importancia de recibir scores positivos?"
   ]
  },
  {
   "cell_type": "code",
   "execution_count": null,
   "metadata": {},
   "outputs": [],
   "source": [
    "seatle_listings.columns"
   ]
  },
  {
   "cell_type": "code",
   "execution_count": null,
   "metadata": {},
   "outputs": [],
   "source": [
    "seatle_listings['amenities_count'] = seatle_listings['amenities'].str.count(',') + 1\n",
    "acommodation_qualities_cols = [#'host_is_superhost', # 'property_type', 'room_type',  'bed_type',\n",
    "       'accommodates', 'bathrooms', 'bedrooms', 'beds', 'amenities_count',\n",
    "       'minimum_nights', 'review_scores_cleanliness', 'review_scores_rating', 'review_scores_accuracy', 'review_scores_checkin',\n",
    "       'review_scores_communication', 'review_scores_location',\n",
    "       'review_scores_value']\n",
    "seatle_listings[acommodation_qualities_cols]"
   ]
  },
  {
   "cell_type": "code",
   "execution_count": null,
   "metadata": {},
   "outputs": [],
   "source": [
    "seatle_accomodation = seatle_listings[acommodation_qualities_cols + [\"host_is_superhost\"]]\n",
    "seatle_accomodation['host_is_superhost'] = seatle_accomodation['host_is_superhost'].astype(int)"
   ]
  },
  {
   "cell_type": "markdown",
   "metadata": {},
   "source": [
    "TODO: hacer esta gráfica como gráfica de barras verticales de comparación."
   ]
  },
  {
   "cell_type": "markdown",
   "metadata": {},
   "source": [
    "Podemos observar que los super host se destacan en obtener buenos reviews en el rubro de Comunicación, por lo que la atención a la comodidad y necesidades del usuario son importantes para ser un Super Host. En esto se puede ver en buenos reviews de limpieza del lugar."
   ]
  },
  {
   "cell_type": "code",
   "execution_count": null,
   "metadata": {},
   "outputs": [],
   "source": [
    "fig, axes = plt.subplots(2, 3, figsize=(18, 10))\n",
    "\n",
    "fig.suptitle('Reviews frequency', fontsize=16)\n",
    "\n",
    "sns.histplot(ax=axes[0, 0], data=seatle_accomodation.dropna(axis=0), x='review_scores_cleanliness', hue=\"host_is_superhost\", kde=True, legend=False).set(title='Cleanliness')\n",
    "# sns.histplot(ax=axes[0, 1], data=seatle_accomodation.dropna(axis=0), x='review_scores_rating', hue=\"host_is_superhost\", kde=True, legend=False).set(title='')\n",
    "sns.histplot(ax=axes[0, 1], data=seatle_accomodation.dropna(axis=0), x='review_scores_accuracy', hue=\"host_is_superhost\", kde=True, legend=False).set(title='Accuracy')\n",
    "sns.histplot(ax=axes[0, 2], data=seatle_accomodation.dropna(axis=0), x='review_scores_checkin', hue=\"host_is_superhost\", kde=True, legend=True).set(title='Check In')\n",
    "sns.histplot(ax=axes[1, 0], data=seatle_accomodation.dropna(axis=0), x='review_scores_communication', hue=\"host_is_superhost\", kde=True, legend=False).set(title='Communication')\n",
    "sns.histplot(ax=axes[1, 1], data=seatle_accomodation.dropna(axis=0), x='review_scores_location', hue=\"host_is_superhost\", kde=True, legend=False).set(title='Location')\n",
    "sns.histplot(ax=axes[1, 2], data=seatle_accomodation.dropna(axis=0), x='review_scores_value', hue=\"host_is_superhost\", kde=True, legend=False).set(title='Overall value')\n",
    "axes[0, 2].legend(title='Host type', loc='upper left', labels=['Super Host', 'Host'])\n",
    "sns.move_legend(axes[0, 2], \"upper left\", bbox_to_anchor=(1, 1))"
   ]
  },
  {
   "cell_type": "markdown",
   "metadata": {},
   "source": [
    "## 3. Análisis de reviews de los superhosts."
   ]
  },
  {
   "cell_type": "code",
   "execution_count": null,
   "metadata": {},
   "outputs": [],
   "source": [
    "boston_listings.sort_values('id').head()"
   ]
  },
  {
   "cell_type": "code",
   "execution_count": null,
   "metadata": {},
   "outputs": [],
   "source": [
    "df_host_type_reviews = boston_reviews.merge(boston_listings[['id', 'name', 'host_is_superhost']], left_on='listing_id', right_on='id', how='inner')\n",
    "df_host_type_reviews"
   ]
  },
  {
   "cell_type": "code",
   "execution_count": null,
   "metadata": {},
   "outputs": [],
   "source": [
    "df_host_type_reviews['comments'][100]"
   ]
  },
  {
   "cell_type": "code",
   "execution_count": null,
   "metadata": {},
   "outputs": [],
   "source": [
    "TextBlob(df_host_type_reviews['comments'][68270]).sentiment.polarity"
   ]
  },
  {
   "cell_type": "code",
   "execution_count": null,
   "metadata": {},
   "outputs": [],
   "source": [
    "def get_sentiment(text:str):\n",
    "    blob = TextBlob(str(text))\n",
    "    sentiment = blob.sentiment  # tuple of Sentiment(polarity=0.21547619047619046, subjectivity=0.4841269841269841)\n",
    "    return sentiment.polarity\n",
    "\n",
    "df_host_type_reviews['sentiment'] = df_host_type_reviews['comments'].apply(get_sentiment)"
   ]
  },
  {
   "cell_type": "code",
   "execution_count": null,
   "metadata": {},
   "outputs": [],
   "source": [
    "def categorize_sentiment(polarity:float):\n",
    "    if polarity < 0:\n",
    "        return 'Negative'\n",
    "    elif polarity > 0:\n",
    "        return 'Positive'\n",
    "    else:\n",
    "        return 'Neutral'\n",
    "\n",
    "df_host_type_reviews['sentiment_category'] = df_host_type_reviews['sentiment'].apply(categorize_sentiment)"
   ]
  },
  {
   "cell_type": "code",
   "execution_count": null,
   "metadata": {},
   "outputs": [],
   "source": [
    "df_superhost = df_host_type_reviews[df_host_type_reviews['host_is_superhost'] == True]\n",
    "df_host = df_host_type_reviews[df_host_type_reviews['host_is_superhost'] == False]\n",
    "\n",
    "df_superhost_sentiment = df_superhost['sentiment_category'].value_counts() / df_superhost.shape[0]\n",
    "df_superhost_sentiment"
   ]
  },
  {
   "cell_type": "code",
   "execution_count": null,
   "metadata": {},
   "outputs": [],
   "source": [
    "df_host_sentiment = df_host['sentiment_category'].value_counts() / df_host.shape[0]\n",
    "df_host_sentiment"
   ]
  },
  {
   "cell_type": "code",
   "execution_count": null,
   "metadata": {},
   "outputs": [],
   "source": [
    "def plot_pie_chart(df, host_type:str):\n",
    "\t# colors\n",
    "\tcolors = ['#3cb371', '#ffa500', '#FF0000']  # Positive, Neutral, Negative\n",
    "\t# explosion\n",
    "\texplode = (0.00, 0.05, 0.1)\n",
    "\n",
    "\t# Pie Chart\n",
    "\tplt.pie(df, colors=colors, labels=df.index,\n",
    "\t\t\tautopct='%1.1f%%', pctdistance=0.85,\n",
    "\t\t\texplode=explode)\n",
    "\n",
    "\tplt.title(f'Reviews categorization of {host_type}')\n",
    "\tplt.show()"
   ]
  },
  {
   "cell_type": "code",
   "execution_count": null,
   "metadata": {},
   "outputs": [],
   "source": [
    "plot_pie_chart(df_superhost_sentiment, host_type='Superhost')"
   ]
  },
  {
   "cell_type": "code",
   "execution_count": null,
   "metadata": {},
   "outputs": [],
   "source": [
    "plot_pie_chart(df_host_sentiment, host_type='Host')"
   ]
  },
  {
   "cell_type": "markdown",
   "metadata": {},
   "source": [
    "Links:\n",
    "- https://medium.com/@umarsmuhammed/how-to-perform-sentiment-analysis-using-python-step-by-step-tutorial-with-code-snippets-4ac3e9747fff\n",
    "- https://textblob.readthedocs.io/en/dev/quickstart.html"
   ]
  },
  {
   "cell_type": "markdown",
   "metadata": {},
   "source": []
  }
 ],
 "metadata": {
  "kernelspec": {
   "display_name": "venv",
   "language": "python",
   "name": "python3"
  },
  "language_info": {
   "codemirror_mode": {
    "name": "ipython",
    "version": 3
   },
   "file_extension": ".py",
   "mimetype": "text/x-python",
   "name": "python",
   "nbconvert_exporter": "python",
   "pygments_lexer": "ipython3",
   "version": "3.8.10"
  }
 },
 "nbformat": 4,
 "nbformat_minor": 2
}
