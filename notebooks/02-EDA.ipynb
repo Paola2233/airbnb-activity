{
 "cells": [
  {
   "cell_type": "markdown",
   "metadata": {},
   "source": [
    "# Seatle and Boston Airbnb Open Data\n",
    "## Exploratory Data Analysis\n",
    "\n",
    "**Author:** Paola Rocha  \n",
    "**Date:** March 3rd, 2024\n",
    "\n",
    "**Description**  \n",
    "The objective of this notebook is to answers business questions for [Boston](https://www.kaggle.com/datasets/airbnb/boston?select=calendar.csv) and [Seatle](https://www.kaggle.com/datasets/airbnb/seattle?resource=download) Airbnb Open Data. \n",
    "\n",
    "Este notebook se enfocarà en responder las siguientes preguntas para cada una de las ciudades:\n",
    "1. Dònde se encuentran los superhosts?\n",
    "    - Utilizar el dataset de listing con longitud y latitud\n",
    "    - Utilizar el precio con escala de colores para mostrar superhost mas costosos.\n",
    "2. Què cualidades de la habitaciòn afectan màs para ser un superhost?\n",
    "3. Què tipo de reviews tienen los superhosts?\n",
    "    - Usar NPL para describir los reviews.\n",
    "4. Predicciòn de precios promedios para la siguiente temporada de super hosts.\n",
    "    - Existe una diferencia de tendencias para los que no son superhosts?\n",
    "\n",
    "**Notebook contents**\n",
    "1. Libraries\n",
    "2. Dataset description\n",
    "3. Data acquistion\n",
    "4. Cleaning data\n",
    "5. Saving data"
   ]
  },
  {
   "cell_type": "code",
   "execution_count": null,
   "metadata": {},
   "outputs": [],
   "source": [
    "# Processing data\n",
    "from pandas import pandas as pd\n",
    "\n",
    "# Visualization\n",
    "import plotly.express as px\n",
    "import plotly.graph_objects as go"
   ]
  },
  {
   "cell_type": "code",
   "execution_count": null,
   "metadata": {},
   "outputs": [],
   "source": [
    "# Reading data\n",
    "seatle_listings = pd.read_csv('../data/processed/Seatle/listings.csv', dtype={'host_is_superhost': bool})\n",
    "boston_listings = pd.read_csv('../data/processed/Boston/listings.csv', dtype={'host_is_superhost': bool})"
   ]
  },
  {
   "cell_type": "markdown",
   "metadata": {},
   "source": [
    "## 1. Dònde se encuentran principalmente los superhosts?"
   ]
  },
  {
   "cell_type": "markdown",
   "metadata": {},
   "source": [
    "### Hosts ubication"
   ]
  },
  {
   "cell_type": "code",
   "execution_count": null,
   "metadata": {},
   "outputs": [],
   "source": [
    "def pivot_listings(df_listings):\n",
    "    \"\"\"This function group data by neighbourhood and host type ('host' or 'superhost').\n",
    "    Also, get the count of airbnb hosts and the average price cost by accommodation.\n",
    "\n",
    "    Args:\n",
    "        df_listings (pd.DataFrame): Listing dataframe\n",
    "\n",
    "    Returns:\n",
    "        pd.DataFrame: Dataframe with count of hosts and average price by host type.\n",
    "    \"\"\"\n",
    "    # Grouping by host and neighbourhood and getting the average price\n",
    "    df_neighbourhood = df_listings.groupby(by=['host_is_superhost', 'neighbourhood']).agg({'price':'mean', 'id':'count'}).reset_index()\n",
    "    \n",
    "    # Separation by host type\n",
    "    neighbour_host = df_neighbourhood[df_neighbourhood['host_is_superhost'] == False].drop('host_is_superhost', axis=1)\n",
    "    neighbour_superhost = df_neighbourhood[df_neighbourhood['host_is_superhost'] == True].drop('host_is_superhost', axis=1)\n",
    "    \n",
    "    # Merging dataframes\n",
    "    df_neighbour_pivot = neighbour_host.merge(neighbour_superhost, on='neighbourhood', how='outer', suffixes=('_host', '_superhost')).fillna(0).sort_values('price_host')\n",
    "    return df_neighbour_pivot"
   ]
  },
  {
   "cell_type": "code",
   "execution_count": null,
   "metadata": {},
   "outputs": [],
   "source": [
    "# Grouping by host and neighbourhood and getting the average bas price\n",
    "seattle_neighbour_pivot = pivot_listings(seatle_listings)\n",
    "boston_neighbour_pivot = pivot_listings(boston_listings)"
   ]
  },
  {
   "cell_type": "code",
   "execution_count": null,
   "metadata": {},
   "outputs": [],
   "source": [
    "def vbar_host_comparison(df_pivot, column_name:str, title:str):\n",
    "\n",
    "    df_pivot = df_pivot.sort_values(f'{column_name}_host')\n",
    "\n",
    "    y = list(range(len(df_pivot)))\n",
    "\n",
    "    fig = go.Figure(data=[\n",
    "        go.Bar(y=y, x=df_pivot[f'{column_name}_superhost'], orientation='h', name=\"Superhost\", base=0),\n",
    "        go.Bar(y=y, x=-df_pivot[f'{column_name}_host'], orientation='h', name=\"Host\", base=0),\n",
    "    ])\n",
    "\n",
    "    fig.update_layout(\n",
    "        barmode='stack',\n",
    "        title={'text': f\"<b>{title}</b><br>Host vs Superhost\",\n",
    "            'x':0.5,\n",
    "            'xanchor': 'center'\n",
    "        },\n",
    "        width=1000,\n",
    "        height=1000,\n",
    "        margin=dict(\n",
    "            l=10,\n",
    "            r=10,\n",
    "            b=10,\n",
    "            t=50,\n",
    "            pad=0\n",
    "        ),)\n",
    "\n",
    "    fig.update_yaxes(\n",
    "            ticktext=df_pivot['neighbourhood'],  # Updating y axis names with neighbourhood names\n",
    "            tickvals=y\n",
    "        )\n",
    "    fig.show()"
   ]
  },
  {
   "cell_type": "code",
   "execution_count": null,
   "metadata": {},
   "outputs": [],
   "source": [
    "vbar_host_comparison(seattle_neighbour_pivot, 'id', 'How many Airbnbs are by host in Seattle by neighbourhood?')"
   ]
  },
  {
   "cell_type": "code",
   "execution_count": null,
   "metadata": {},
   "outputs": [],
   "source": [
    "vbar_host_comparison(boston_neighbour_pivot, 'id', 'How many Airbnbs are by host in Boston by neighbourhood?')"
   ]
  },
  {
   "cell_type": "code",
   "execution_count": null,
   "metadata": {},
   "outputs": [],
   "source": [
    "def geographical_price(df_listings, host_is_superhost:bool):\n",
    "    \"\"\"Filter listings dataframe by host type and calculate the average of price by coordenates.\n",
    "\n",
    "    Args:\n",
    "        df_listings (pd.DataFrame): Listings dataframe\n",
    "        host_is_superhost (bool): Type of host. If True, host is superhost, otherwise is only a host\n",
    "\n",
    "    Returns:\n",
    "        pd.DataFrame: Dataframe with the coordenates and average price.\n",
    "    \"\"\"\n",
    "    df_listings_filtered = df_listings[df_listings['host_is_superhost'] == host_is_superhost]\n",
    "    df_coords = df_listings_filtered.groupby(by=['latitude', 'longitude']).agg({'price': 'mean'}).reset_index()\n",
    "    return df_coords"
   ]
  },
  {
   "cell_type": "code",
   "execution_count": null,
   "metadata": {},
   "outputs": [],
   "source": [
    "def mapbox_price(df_coords, color_continuous_scale:str='matter'):\n",
    "    fig = px.density_mapbox(df_coords, lat='latitude', lon='longitude', z='price', radius=15, zoom=0, color_continuous_scale='matter')\n",
    "    fig.update_layout(mapbox_style=\"open-street-map\")\n",
    "    fig.update_layout(margin={\"r\":0,\"t\":0,\"l\":0,\"b\":0})\n",
    "    fig.show()"
   ]
  },
  {
   "cell_type": "code",
   "execution_count": null,
   "metadata": {},
   "outputs": [],
   "source": [
    "seattle_superhost_coords = geographical_price(seatle_listings, host_is_superhost=True)\n",
    "seattle_host_coords = geographical_price(seatle_listings, host_is_superhost=False)"
   ]
  },
  {
   "cell_type": "code",
   "execution_count": null,
   "metadata": {},
   "outputs": [],
   "source": [
    "mapbox_price(seattle_superhost_coords)"
   ]
  },
  {
   "cell_type": "code",
   "execution_count": null,
   "metadata": {},
   "outputs": [],
   "source": [
    "mapbox_price(seattle_host_coords)"
   ]
  },
  {
   "cell_type": "code",
   "execution_count": null,
   "metadata": {},
   "outputs": [],
   "source": [
    "boston_superhost_coords = geographical_price(boston_listings, host_is_superhost=True)\n",
    "boston_host_coords = geographical_price(boston_listings, host_is_superhost=False)"
   ]
  },
  {
   "cell_type": "code",
   "execution_count": null,
   "metadata": {},
   "outputs": [],
   "source": [
    "mapbox_price(boston_superhost_coords)"
   ]
  },
  {
   "cell_type": "code",
   "execution_count": null,
   "metadata": {},
   "outputs": [],
   "source": [
    "mapbox_price(boston_host_coords)"
   ]
  },
  {
   "cell_type": "code",
   "execution_count": null,
   "metadata": {},
   "outputs": [],
   "source": []
  }
 ],
 "metadata": {
  "kernelspec": {
   "display_name": "venv",
   "language": "python",
   "name": "python3"
  },
  "language_info": {
   "codemirror_mode": {
    "name": "ipython",
    "version": 3
   },
   "file_extension": ".py",
   "mimetype": "text/x-python",
   "name": "python",
   "nbconvert_exporter": "python",
   "pygments_lexer": "ipython3",
   "version": "3.9.6"
  }
 },
 "nbformat": 4,
 "nbformat_minor": 2
}
