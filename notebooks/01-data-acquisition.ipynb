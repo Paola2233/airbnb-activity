{
 "cells": [
  {
   "cell_type": "markdown",
   "metadata": {},
   "source": [
    "# Seatle and Boston Airbnb Open Data\n",
    "## Data Acquisition notebook\n",
    "\n",
    "**Author:** Paola Rocha  \n",
    "**Date:** March 2nd, 2024\n",
    "\n",
    "**Description**  \n",
    "The objective of this notebook is to prepare and clean data for [Boston](https://www.kaggle.com/datasets/airbnb/boston?select=calendar.csv) and [Seatle](https://www.kaggle.com/datasets/airbnb/seattle?resource=download) Airbnb Open Data. Tambièn, este notebook sirve para darle un primer vistazo a los datos que cuenta el dataset y familiarizarnos con los datos.\n",
    "\n",
    "**Notebook contents**\n",
    "1. Libraries\n",
    "2. Dataset description\n",
    "3. Data acquistion\n",
    "4. Cleaning data\n",
    "5. Saving data"
   ]
  },
  {
   "cell_type": "markdown",
   "metadata": {},
   "source": [
    "### 1. Libraries"
   ]
  },
  {
   "cell_type": "code",
   "execution_count": 1,
   "metadata": {},
   "outputs": [],
   "source": [
    "# Data processing\n",
    "import pandas as pd\n",
    "import numpy as np"
   ]
  },
  {
   "cell_type": "markdown",
   "metadata": {},
   "source": [
    "### 2. Dataset description\n",
    "\n",
    "The datasets used in this projects, consist of activity listing in [Boston](https://www.kaggle.com/datasets/airbnb/boston?select=calendar.csv) and [Seatle](https://www.kaggle.com/datasets/airbnb/seattle?resource=download) Airbnb. The data can be found and downloaded in Kaggle. Both datasets consists of 3 CSV files:\n",
    "- Listing: contains average review score. Each id (`listing_id`) is an accommodation registered in Airbnb.\n",
    "- Reviews: review comments made by users.\n",
    "- Calendar: contains the price and availability in a year.\n",
    "\n",
    "All these 3 datasets can be merged using `listing_id`."
   ]
  },
  {
   "cell_type": "markdown",
   "metadata": {},
   "source": [
    "### 3. Data acquisition"
   ]
  },
  {
   "cell_type": "markdown",
   "metadata": {},
   "source": [
    "#### Seatle data\n",
    "Using pandas library to read Seatle data"
   ]
  },
  {
   "cell_type": "code",
   "execution_count": 2,
   "metadata": {},
   "outputs": [],
   "source": [
    "seatle_listings = pd.read_csv('../data/Seatle/listings.csv')\n",
    "seatle_reviews = pd.read_csv('../data/Seatle/reviews.csv', parse_dates=[2])\n",
    "seatle_calendar = pd.read_csv('../data/Seatle/calendar.csv')"
   ]
  },
  {
   "cell_type": "markdown",
   "metadata": {},
   "source": [
    "#### Boston data"
   ]
  },
  {
   "cell_type": "code",
   "execution_count": 3,
   "metadata": {},
   "outputs": [],
   "source": [
    "boston_listings = pd.read_csv('../data/Boston/listings.csv')\n",
    "boston_reviews = pd.read_csv('../data/Boston/reviews.csv', parse_dates=[2])\n",
    "boston_calendar = pd.read_csv('../data/Boston/calendar.csv')"
   ]
  },
  {
   "cell_type": "markdown",
   "metadata": {},
   "source": [
    "### 4. Cleaning data"
   ]
  },
  {
   "cell_type": "markdown",
   "metadata": {},
   "source": [
    "#### Listings dataset"
   ]
  },
  {
   "cell_type": "markdown",
   "metadata": {},
   "source": [
    "Vemos que nuestro dataset contiene una gran cantidad de columnas que podrìan ser de utilidad para nuestro anàlisis. Empezando por una limpieza bàsica basta por ahora."
   ]
  },
  {
   "cell_type": "code",
   "execution_count": 4,
   "metadata": {},
   "outputs": [
    {
     "name": "stdout",
     "output_type": "stream",
     "text": [
      "Seatle listings dataset have 92 columns with 3818 rows\n",
      "Boston listings dataset have 95 columns with 3585 rows\n"
     ]
    }
   ],
   "source": [
    "print(f'Seatle listings dataset have {seatle_listings.shape[1]} columns with {seatle_listings.shape[0]} rows')\n",
    "print(f'Boston listings dataset have {boston_listings.shape[1]} columns with {boston_listings.shape[0]} rows')"
   ]
  },
  {
   "cell_type": "code",
   "execution_count": 5,
   "metadata": {},
   "outputs": [
    {
     "data": {
      "text/plain": [
       "{'access', 'house_rules', 'interaction'}"
      ]
     },
     "execution_count": 5,
     "metadata": {},
     "output_type": "execute_result"
    }
   ],
   "source": [
    "# Different columns in both datasets\n",
    "set(list(seatle_listings.columns)).symmetric_difference(set(list(boston_listings.columns)))"
   ]
  },
  {
   "cell_type": "markdown",
   "metadata": {},
   "source": [
    "Empezando con la limpieza de datos, podemos analizar la cantidad de valores nulos en la columna que es de màs interes en este anàlisis."
   ]
  },
  {
   "cell_type": "markdown",
   "metadata": {},
   "source": [
    "There are only 2 rows with misssing data in column `host_is_superhost`, so its safe to delete those rows."
   ]
  },
  {
   "cell_type": "code",
   "execution_count": 6,
   "metadata": {},
   "outputs": [
    {
     "data": {
      "text/plain": [
       "2"
      ]
     },
     "execution_count": 6,
     "metadata": {},
     "output_type": "execute_result"
    }
   ],
   "source": [
    "seatle_listings['host_is_superhost'].isnull().sum()"
   ]
  },
  {
   "cell_type": "code",
   "execution_count": 7,
   "metadata": {},
   "outputs": [
    {
     "data": {
      "text/plain": [
       "0"
      ]
     },
     "execution_count": 7,
     "metadata": {},
     "output_type": "execute_result"
    }
   ],
   "source": [
    "boston_listings['host_is_superhost'].isnull().sum()"
   ]
  },
  {
   "cell_type": "code",
   "execution_count": 8,
   "metadata": {},
   "outputs": [],
   "source": [
    "seatle_listings = seatle_listings.dropna(subset=['host_is_superhost'])\n",
    "boston_listings = boston_listings.dropna(subset=['host_is_superhost'])"
   ]
  },
  {
   "cell_type": "markdown",
   "metadata": {},
   "source": [
    "Dropping columns that have more than 75% of missing data"
   ]
  },
  {
   "cell_type": "code",
   "execution_count": 9,
   "metadata": {},
   "outputs": [],
   "source": [
    "# Seatle\n",
    "columns_to_drop_s = list(seatle_listings.columns[seatle_listings.isnull().mean() > 0.75])\n",
    "seatle_listings.drop(columns=columns_to_drop_s, inplace=True)\n",
    "\n",
    "# Boston\n",
    "columns_to_drop_b = list(boston_listings.columns[boston_listings.isnull().mean() > 0.75])\n",
    "boston_listings.drop(columns=columns_to_drop_b, inplace=True)"
   ]
  },
  {
   "cell_type": "markdown",
   "metadata": {},
   "source": [
    "Adicionalmente, existen algunas columnas que no son de interes para nuestro análisis. Por lo que de primer paso, podemos eliminar esas columnas."
   ]
  },
  {
   "cell_type": "code",
   "execution_count": 10,
   "metadata": {},
   "outputs": [],
   "source": [
    "# Seatle\n",
    "seatle_listings.drop(columns=['listing_url', 'scrape_id', 'last_scraped', 'host_id', 'notes', 'picture_url', 'xl_picture_url', 'host_url', 'host_about', 'access', 'house_rules', 'interaction'],\n",
    "                     inplace=True,\n",
    "                     errors='ignore')\n",
    "\n",
    "# Boston\n",
    "boston_listings.drop(columns=['listing_url', 'scrape_id', 'last_scraped', 'host_id', 'notes', 'picture_url', 'xl_picture_url', 'host_url', 'host_about', 'access', 'house_rules', 'interaction'],\n",
    "                     inplace=True,\n",
    "                     errors='ignore')"
   ]
  },
  {
   "cell_type": "markdown",
   "metadata": {},
   "source": [
    "De igual forma, vemos que nuestra columna de interes es de typo `object`, por lo que hay que convertirlo en booleano."
   ]
  },
  {
   "cell_type": "code",
   "execution_count": 11,
   "metadata": {},
   "outputs": [],
   "source": [
    "seatle_listings['host_is_superhost'] = seatle_listings['host_is_superhost'].map({'t': True, 'f': False})\n",
    "boston_listings['host_is_superhost'] = boston_listings['host_is_superhost'].map({'t': True, 'f': False})"
   ]
  },
  {
   "cell_type": "markdown",
   "metadata": {},
   "source": [
    "Debido a que nuetro anàlisis implica el precio de los Airbnb, es necesario limpiar la columna ya que es de tipo `object` con el inicio de signo de dolares `$`."
   ]
  },
  {
   "cell_type": "code",
   "execution_count": 12,
   "metadata": {},
   "outputs": [],
   "source": [
    "seatle_listings['price'] = seatle_listings['price'].replace('[\\$\\,\\.]', '', regex=True).astype(int)\n",
    "boston_listings['price'] = boston_listings['price'].replace('[\\$\\,\\.]', '', regex=True).astype(int)"
   ]
  },
  {
   "cell_type": "markdown",
   "metadata": {},
   "source": [
    "#### Reviews dataset"
   ]
  },
  {
   "cell_type": "markdown",
   "metadata": {},
   "source": [
    "No hay necesidad de eliminar columnas o rows en el dataset de reviews"
   ]
  },
  {
   "cell_type": "code",
   "execution_count": 13,
   "metadata": {},
   "outputs": [
    {
     "data": {
      "text/plain": [
       "listing_id        0\n",
       "id                0\n",
       "date              0\n",
       "reviewer_id       0\n",
       "reviewer_name     0\n",
       "comments         18\n",
       "dtype: int64"
      ]
     },
     "execution_count": 13,
     "metadata": {},
     "output_type": "execute_result"
    }
   ],
   "source": [
    "# Seatle\n",
    "seatle_reviews.isnull().sum()"
   ]
  },
  {
   "cell_type": "code",
   "execution_count": 14,
   "metadata": {},
   "outputs": [
    {
     "data": {
      "text/plain": [
       "listing_id        0\n",
       "id                0\n",
       "date              0\n",
       "reviewer_id       0\n",
       "reviewer_name     0\n",
       "comments         53\n",
       "dtype: int64"
      ]
     },
     "execution_count": 14,
     "metadata": {},
     "output_type": "execute_result"
    }
   ],
   "source": [
    "# Boston\n",
    "boston_reviews.isnull().sum()"
   ]
  },
  {
   "cell_type": "markdown",
   "metadata": {},
   "source": [
    "#### Calendar dataset"
   ]
  },
  {
   "cell_type": "markdown",
   "metadata": {},
   "source": [
    "El dataset de calendar tampoco es necesario eliminar datos, sin embargo, debido a que los datos se pueden tratar como series de tiempo, es interesante saber el precio nulo debido a que es un indicativo de que el airbnb no se encontraba displonible. En su lugar, se crearà una nueva columna que especifique si es nulo o no para no perder informaciòn en caso de que se requiera implementar un modelo de predicciòn de precios."
   ]
  },
  {
   "cell_type": "code",
   "execution_count": 15,
   "metadata": {},
   "outputs": [
    {
     "data": {
      "text/plain": [
       "listing_id         0\n",
       "date               0\n",
       "available          0\n",
       "price         459028\n",
       "dtype: int64"
      ]
     },
     "execution_count": 15,
     "metadata": {},
     "output_type": "execute_result"
    }
   ],
   "source": [
    "# Seatle\n",
    "seatle_calendar.isnull().sum()"
   ]
  },
  {
   "cell_type": "code",
   "execution_count": 16,
   "metadata": {},
   "outputs": [
    {
     "data": {
      "text/plain": [
       "listing_id         0\n",
       "date               0\n",
       "available          0\n",
       "price         665853\n",
       "dtype: int64"
      ]
     },
     "execution_count": 16,
     "metadata": {},
     "output_type": "execute_result"
    }
   ],
   "source": [
    "# Boston\n",
    "boston_calendar.isnull().sum()"
   ]
  },
  {
   "cell_type": "code",
   "execution_count": 17,
   "metadata": {},
   "outputs": [],
   "source": [
    "# Creating new column\n",
    "seatle_calendar['null_price'] = np.where(seatle_calendar['price'].isnull(), 1, 0)\n",
    "boston_calendar['null_price'] = np.where(boston_calendar['price'].isnull(), 1, 0)"
   ]
  },
  {
   "cell_type": "markdown",
   "metadata": {},
   "source": [
    "### 5. Saving data"
   ]
  },
  {
   "cell_type": "code",
   "execution_count": 18,
   "metadata": {},
   "outputs": [],
   "source": [
    "# Seatle\n",
    "seatle_listings.to_csv('../data/processed/Seatle/listings.csv', index=False)\n",
    "seatle_reviews.to_csv('../data/processed/Seatle/reviews.csv', index=False)\n",
    "seatle_calendar.to_csv('../data/processed/Seatle/calendar.csv', index=False)"
   ]
  },
  {
   "cell_type": "code",
   "execution_count": 19,
   "metadata": {},
   "outputs": [],
   "source": [
    "# Boston\n",
    "boston_listings.to_csv('../data/processed/Boston/listings.csv', index=False)\n",
    "boston_reviews.to_csv('../data/processed/Boston/reviews.csv', index=False)\n",
    "boston_calendar.to_csv('../data/processed/Boston/calendar.csv', index=False)"
   ]
  },
  {
   "cell_type": "markdown",
   "metadata": {},
   "source": [
    "Questions\n",
    "**Cualidades para ser un superhost**\n",
    "- Cuales son las areas màs costosas y mas baratas de Seatle?\n",
    "- Què es lo que define el precio y es superhost(correlaciòn). La temporada! utiliar calendar\n",
    "\n",
    "- En què areas se encuentran los superhosts de Seatle y Boston?\n",
    "- Què cualidades debe tener la accommodation para ser un superhost?\n",
    "- Comparaciòn de precios de host y superhosts\n",
    "- Anàlisis de reviews de los superhosts.\n",
    "    - comparaciòn de superhosts con hosts normalitos\n",
    "    - Usar NLP?\n"
   ]
  }
 ],
 "metadata": {
  "kernelspec": {
   "display_name": "venv",
   "language": "python",
   "name": "python3"
  },
  "language_info": {
   "codemirror_mode": {
    "name": "ipython",
    "version": 3
   },
   "file_extension": ".py",
   "mimetype": "text/x-python",
   "name": "python",
   "nbconvert_exporter": "python",
   "pygments_lexer": "ipython3",
   "version": "3.9.6"
  }
 },
 "nbformat": 4,
 "nbformat_minor": 2
}
